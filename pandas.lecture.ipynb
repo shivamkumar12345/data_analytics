{
 "cells": [
  {
   "cell_type": "code",
   "execution_count": 11,
   "id": "49e90554-d875-402d-a0d0-c6ab65da1c1b",
   "metadata": {},
   "outputs": [
    {
     "name": "stdout",
     "output_type": "stream",
     "text": [
      "a    1\n",
      "b    2\n",
      "c    3\n",
      "d    4\n",
      "e    5\n",
      "f    6\n",
      "dtype: int64\n"
     ]
    }
   ],
   "source": [
    "import pandas as pd\n",
    "# help(pd)\n",
    "l = [1,2,3,4,5,6]\n",
    "pd_sr = pd.Series(l,index=['a','b','c','d','e','f'])\n",
    "print(pd_sr)\n"
   ]
  },
  {
   "cell_type": "code",
   "execution_count": 13,
   "id": "99f8b64b-173e-4ca8-8528-7240aab95777",
   "metadata": {},
   "outputs": [
    {
     "name": "stdout",
     "output_type": "stream",
     "text": [
      "a    (1, 1)\n",
      "b    (2, 2)\n",
      "c    (3, 3)\n",
      "d    (4, 4)\n",
      "e    (5, 5)\n",
      "dtype: object\n"
     ]
    }
   ],
   "source": [
    "l= [(\"1\",1),(\"2\",2),(\"3\",3),(\"4\",4),(\"5\",5)]\n",
    "sr= pd.Series(l, index=['a','b','c','d','e'])\n",
    "print(sr)"
   ]
  },
  {
   "cell_type": "code",
   "execution_count": 18,
   "id": "2118fb00-e485-4fd3-b2eb-2c4e234d86f4",
   "metadata": {},
   "outputs": [
    {
     "name": "stdout",
     "output_type": "stream",
     "text": [
      "ram      15\n",
      "shyam    14\n",
      "gita     16\n",
      "dtype: int64\n"
     ]
    }
   ],
   "source": [
    "d = {\"ram\":15,\"shyam\":14,\"gita\":12}\n",
    "sr= pd.Series(d)\n",
    "sr[\"gita\"] =16\n",
    "print(sr)"
   ]
  },
  {
   "cell_type": "code",
   "execution_count": 21,
   "id": "34023acc-6c7c-4794-a008-b1907a108a92",
   "metadata": {},
   "outputs": [
    {
     "data": {
      "text/plain": [
       "ram      15\n",
       "shyam    14\n",
       "dtype: int64"
      ]
     },
     "execution_count": 21,
     "metadata": {},
     "output_type": "execute_result"
    }
   ],
   "source": [
    "#head method default 5 value from top\n",
    "sr.head(2)"
   ]
  },
  {
   "cell_type": "code",
   "execution_count": 22,
   "id": "703c9b2b-3974-445b-bb8b-722c5b880ddb",
   "metadata": {},
   "outputs": [
    {
     "data": {
      "text/plain": [
       "shyam    14\n",
       "gita     16\n",
       "dtype: int64"
      ]
     },
     "execution_count": 22,
     "metadata": {},
     "output_type": "execute_result"
    }
   ],
   "source": [
    "#tail method default 5 value from bottom\n",
    "sr.tail(2)"
   ]
  },
  {
   "cell_type": "code",
   "execution_count": 30,
   "id": "57eea4ee-d27c-4204-ad33-12aa1c24271f",
   "metadata": {},
   "outputs": [
    {
     "name": "stdout",
     "output_type": "stream",
     "text": [
      "0    1\n",
      "1    2\n",
      "2    3\n",
      "3    4\n",
      "4    5\n",
      "5    6\n",
      "dtype: int64\n"
     ]
    }
   ],
   "source": [
    "l = [1,2,3,4,5,6,7,2,4,0,11]\n",
    "x= pd.Series(l).head(6)\n",
    "print(x)"
   ]
  },
  {
   "cell_type": "code",
   "execution_count": 141,
   "id": "4e1472dd-91f5-4d58-bfcf-8f4d70a5cd89",
   "metadata": {},
   "outputs": [
    {
     "name": "stdout",
     "output_type": "stream",
     "text": [
      "   ram  shyam  gita\n",
      "0   15     14    12\n",
      "1   15     14    12\n"
     ]
    }
   ],
   "source": [
    "## data frame\n",
    "l = [{\"ram\":15,\"shyam\":14,\"gita\":12},{\"ram\":15,\"shyam\":14,\"gita\":12}]\n",
    "df =pd.DataFrame(l)\n",
    "print(df)\n",
    "\n"
   ]
  },
  {
   "cell_type": "code",
   "execution_count": 12,
   "id": "db18f58d-26c2-49a2-a109-5e99829f3ad3",
   "metadata": {},
   "outputs": [
    {
     "name": "stdout",
     "output_type": "stream",
     "text": [
      "   Duration  Pulse\n",
      "4        45    117\n",
      "6        60    110\n",
      "8        30    109\n",
      "    Maxpulse  Calories\n",
      "1        145     479.0\n",
      "5        127     300.0\n",
      "10       147     329.3\n"
     ]
    }
   ],
   "source": [
    "##loc method key\n",
    "csv=  pd.read_csv(\"../data.csv\")\n",
    "\n",
    "print(csv.loc[4:8:2,['Duration',\"Pulse\"]]) # [row slicing, column ki slicing|list]\n",
    "print(csv.loc[[1,5,10],['Maxpulse','Calories']])"
   ]
  },
  {
   "cell_type": "code",
   "execution_count": 151,
   "id": "7aeea8a7-4862-41c5-9f10-e8d582eafceb",
   "metadata": {},
   "outputs": [
    {
     "name": "stdout",
     "output_type": "stream",
     "text": [
      "Index(['Duration', 'Pulse', 'Maxpulse', 'Calories'], dtype='object')\n"
     ]
    }
   ],
   "source": [
    "#column names\n",
    "print(csv.columns)"
   ]
  },
  {
   "cell_type": "code",
   "execution_count": 160,
   "id": "a85be6ed-e1d2-4644-9f56-1857fec46df7",
   "metadata": {},
   "outputs": [
    {
     "name": "stdout",
     "output_type": "stream",
     "text": [
      "   Pulse  Maxpulse\n",
      "0    110       130\n",
      "1    117       145\n",
      "2    103       135\n",
      "3    109       175\n",
      "4    117       148\n",
      "   Duration  Maxpulse\n",
      "0        60       130\n",
      "3        45       175\n",
      "5        60       127\n",
      "   Duration  Pulse  Maxpulse  Calories\n",
      "0        60    110       130     409.1\n",
      "1        60    117       145     479.0\n",
      "2        60    103       135     340.0\n",
      "3        45    109       175     282.4\n",
      "4        45    117       148     406.0\n"
     ]
    }
   ],
   "source": [
    "# iloc method indexing[row,col] or [row slicing, col slicing] or [row list , col list]\n",
    "print(csv.iloc[0:5,1:3])\n",
    "print(csv.iloc[[0,3,5],[0,2]])\n",
    "print(csv.head())"
   ]
  },
  {
   "cell_type": "code",
   "execution_count": 165,
   "id": "a8e392d9-31d6-4ea9-bbc4-d96bc7552dae",
   "metadata": {},
   "outputs": [
    {
     "name": "stdout",
     "output_type": "stream",
     "text": [
      "        Duration       Pulse    Maxpulse    Calories\n",
      "count   5.000000    5.000000    5.000000    5.000000\n",
      "mean   54.000000  111.200000  146.600000  383.300000\n",
      "std     8.215838    5.932959   17.472836   74.824996\n",
      "min    45.000000  103.000000  130.000000  282.400000\n",
      "25%    45.000000  109.000000  135.000000  340.000000\n",
      "50%    60.000000  110.000000  145.000000  406.000000\n",
      "75%    60.000000  117.000000  148.000000  409.100000\n",
      "max    60.000000  117.000000  175.000000  479.000000\n"
     ]
    }
   ],
   "source": [
    "#describe method ## count, min, max , mean, std, percentile\n",
    "print(csv.head().describe())"
   ]
  },
  {
   "cell_type": "code",
   "execution_count": 168,
   "id": "ecd928d6-273b-42db-9d79-07d7b6a02f48",
   "metadata": {},
   "outputs": [
    {
     "name": "stdout",
     "output_type": "stream",
     "text": [
      "   ram  shyam  gita\n",
      "0   15     14    12\n",
      "1   15     14    12\n",
      "   ram  shyam  gita\n",
      "0   17     16    14\n",
      "1   17     16    14\n"
     ]
    }
   ],
   "source": [
    "#apply method\n",
    "l = [{\"ram\":15,\"shyam\":14,\"gita\":12},{\"ram\":15,\"shyam\":14,\"gita\":12}]\n",
    "df=  pd.DataFrame(l)\n",
    "print(df)\n",
    "# def fun(val):\n",
    "#     return val+2\n",
    "newDf = df.apply(lambda val: val+2)\n",
    "print(newDf)"
   ]
  },
  {
   "cell_type": "code",
   "execution_count": 169,
   "id": "504c3bd7-eebc-43e4-99a3-c6fc3fd8cd8f",
   "metadata": {},
   "outputs": [
    {
     "data": {
      "text/html": [
       "<div>\n",
       "<style scoped>\n",
       "    .dataframe tbody tr th:only-of-type {\n",
       "        vertical-align: middle;\n",
       "    }\n",
       "\n",
       "    .dataframe tbody tr th {\n",
       "        vertical-align: top;\n",
       "    }\n",
       "\n",
       "    .dataframe thead th {\n",
       "        text-align: right;\n",
       "    }\n",
       "</style>\n",
       "<table border=\"1\" class=\"dataframe\">\n",
       "  <thead>\n",
       "    <tr style=\"text-align: right;\">\n",
       "      <th></th>\n",
       "      <th>Duration</th>\n",
       "      <th>Pulse</th>\n",
       "      <th>Maxpulse</th>\n",
       "      <th>Calories</th>\n",
       "    </tr>\n",
       "  </thead>\n",
       "  <tbody>\n",
       "    <tr>\n",
       "      <th>min</th>\n",
       "      <td>15</td>\n",
       "      <td>80</td>\n",
       "      <td>100</td>\n",
       "      <td>50.3</td>\n",
       "    </tr>\n",
       "    <tr>\n",
       "      <th>max</th>\n",
       "      <td>300</td>\n",
       "      <td>159</td>\n",
       "      <td>184</td>\n",
       "      <td>1860.4</td>\n",
       "    </tr>\n",
       "  </tbody>\n",
       "</table>\n",
       "</div>"
      ],
      "text/plain": [
       "     Duration  Pulse  Maxpulse  Calories\n",
       "min        15     80       100      50.3\n",
       "max       300    159       184    1860.4"
      ]
     },
     "execution_count": 169,
     "metadata": {},
     "output_type": "execute_result"
    }
   ],
   "source": [
    "##agregate method alt of describe\n",
    "csv.aggregate(['min','max'])"
   ]
  },
  {
   "cell_type": "code",
   "execution_count": 170,
   "id": "58ea3d7c-caff-4d55-adc8-cde6a58d79fd",
   "metadata": {},
   "outputs": [
    {
     "data": {
      "text/html": [
       "<div>\n",
       "<style scoped>\n",
       "    .dataframe tbody tr th:only-of-type {\n",
       "        vertical-align: middle;\n",
       "    }\n",
       "\n",
       "    .dataframe tbody tr th {\n",
       "        vertical-align: top;\n",
       "    }\n",
       "\n",
       "    .dataframe thead th {\n",
       "        text-align: right;\n",
       "    }\n",
       "</style>\n",
       "<table border=\"1\" class=\"dataframe\">\n",
       "  <thead>\n",
       "    <tr style=\"text-align: right;\">\n",
       "      <th></th>\n",
       "      <th>Duration</th>\n",
       "      <th>Pulse</th>\n",
       "      <th>Maxpulse</th>\n",
       "    </tr>\n",
       "  </thead>\n",
       "  <tbody>\n",
       "    <tr>\n",
       "      <th>min</th>\n",
       "      <td>15</td>\n",
       "      <td>80.0</td>\n",
       "      <td>NaN</td>\n",
       "    </tr>\n",
       "    <tr>\n",
       "      <th>max</th>\n",
       "      <td>300</td>\n",
       "      <td>NaN</td>\n",
       "      <td>184.0</td>\n",
       "    </tr>\n",
       "  </tbody>\n",
       "</table>\n",
       "</div>"
      ],
      "text/plain": [
       "     Duration  Pulse  Maxpulse\n",
       "min        15   80.0       NaN\n",
       "max       300    NaN     184.0"
      ]
     },
     "execution_count": 170,
     "metadata": {},
     "output_type": "execute_result"
    }
   ],
   "source": [
    "csv.aggregate({\"Duration\":['min','max'],\n",
    "              \"Pulse\":['min'],\n",
    "              \"Maxpulse\":['max']})"
   ]
  },
  {
   "cell_type": "code",
   "execution_count": 178,
   "id": "703016a7-ccf7-4e53-ade8-8b7261e0dc44",
   "metadata": {},
   "outputs": [
    {
     "name": "stdout",
     "output_type": "stream",
     "text": [
      "   Duration  Pulse  Maxpulse  Calories\n",
      "0        60    110       130     409.1\n",
      "1        60    117       145     479.0\n",
      "2        60    103       135     340.0\n",
      "3        45    109       175     282.4\n",
      "4        45    117       148     406.0\n",
      "   Duration  Pulse  Calories\n",
      "0        60    110     409.1\n",
      "1        60    117     479.0\n",
      "2        60    103     340.0\n",
      "3        45    109     282.4\n",
      "4        45    117     406.0\n"
     ]
    }
   ],
   "source": [
    "#drop method to delete column,row\n",
    "print(csv.head())\n",
    "csv.drop(['Maxpulse'], axis =1,inplace = True)\n",
    "print(csv.head())"
   ]
  },
  {
   "cell_type": "code",
   "execution_count": 188,
   "id": "3e4abeb3-c68d-49f7-98c0-96ca8e385a20",
   "metadata": {},
   "outputs": [
    {
     "name": "stdout",
     "output_type": "stream",
     "text": [
      "   ram  shyam  gita\n",
      "0   15     14    12\n",
      "1   15     14    12\n",
      "None\n",
      "   Sum  ram  shyam  gita\n",
      "0    1   15     14    12\n",
      "1    2   15     14    12\n"
     ]
    }
   ],
   "source": [
    "#insert for column\n",
    "l = [{\"ram\":15,\"shyam\":14,\"gita\":12},{\"ram\":15,\"shyam\":14,\"gita\":12}]\n",
    "df=  pd.DataFrame(l)\n",
    "print(df)\n",
    "df.insert(0,\"Sum\",[1,2])\n",
    "print(df)"
   ]
  },
  {
   "cell_type": "code",
   "execution_count": 190,
   "id": "d5c577bb-8cfd-46ee-824b-d1ec1077563a",
   "metadata": {},
   "outputs": [
    {
     "name": "stdout",
     "output_type": "stream",
     "text": [
      "   Duration  Pulse  Calories  Sum\n",
      "0        60    110     409.1    1\n",
      "1        60    117     479.0    2\n",
      "2        60    103     340.0    3\n",
      "3        45    109     282.4    4\n",
      "4        45    117     406.0    5\n"
     ]
    }
   ],
   "source": [
    "newCsv =csv.head()\n",
    "newCsv.insert(3,\"Sum\",[1,2,3,4,5])\n",
    "print(newCsv)"
   ]
  },
  {
   "cell_type": "code",
   "execution_count": 192,
   "id": "57fe1e5b-6b70-4786-b3d6-fce7fe61b3ee",
   "metadata": {},
   "outputs": [
    {
     "name": "stdout",
     "output_type": "stream",
     "text": [
      "   Duration  Pulse  Calories  Sum\n",
      "0        60    110     409.1    1\n",
      "1        60    117     479.0    2\n",
      "2        60    103     340.0    3\n",
      "3        45    109     282.4    4\n",
      "4        45    117     406.0    5\n"
     ]
    },
    {
     "name": "stderr",
     "output_type": "stream",
     "text": [
      "C:\\Users\\DELL\\AppData\\Local\\Temp\\ipykernel_8068\\3248541914.py:4: SettingWithCopyWarning: \n",
      "A value is trying to be set on a copy of a slice from a DataFrame.\n",
      "Try using .loc[row_indexer,col_indexer] = value instead\n",
      "\n",
      "See the caveats in the documentation: https://pandas.pydata.org/pandas-docs/stable/user_guide/indexing.html#returning-a-view-versus-a-copy\n",
      "  newCsv.loc[:,'Sum'] = newData\n"
     ]
    }
   ],
   "source": [
    "#insert through loc method\n",
    "newData= [1,2,3,4,5]\n",
    "newCsv =csv.head()\n",
    "newCsv.loc[:,'Sum'] = newData\n",
    "print(newCsv)"
   ]
  },
  {
   "cell_type": "code",
   "execution_count": 196,
   "id": "d702d3e8-30b2-485d-b7cb-80c1b175cf7f",
   "metadata": {},
   "outputs": [],
   "source": [
    "#append method used to add row in csv\n",
    "newCsv =csv.head()\n",
    "data= {\"Duration\":5,\n",
    "      \"Pulse\":10,\n",
    "      \"Calories\":100}\n",
    "# df1 = pd.DataFrame(data)\n",
    "# newCsv.append(df1,ignore_index=True)\n",
    "# print(newCsv)"
   ]
  },
  {
   "cell_type": "code",
   "execution_count": 13,
   "id": "bad686be-d19e-4cf6-9e76-afbea7019a26",
   "metadata": {},
   "outputs": [
    {
     "name": "stdout",
     "output_type": "stream",
     "text": [
      "   Duration  Pulse  Maxpulse  Calories\n",
      "8        30    109       133     195.1\n",
      "4        45    117       148     406.0\n",
      "3        45    109       175     282.4\n",
      "7        45    104       134     253.3\n",
      "1        60    117       145     479.0\n",
      "0        60    110       130     409.1\n",
      "6        60    110       136     374.0\n",
      "2        60    103       135     340.0\n",
      "5        60    102       127     300.0\n",
      "9        60     98       124     269.0\n"
     ]
    },
    {
     "name": "stderr",
     "output_type": "stream",
     "text": [
      "C:\\Users\\DELL\\AppData\\Local\\Temp\\ipykernel_1308\\899463541.py:3: SettingWithCopyWarning: \n",
      "A value is trying to be set on a copy of a slice from a DataFrame\n",
      "\n",
      "See the caveats in the documentation: https://pandas.pydata.org/pandas-docs/stable/user_guide/indexing.html#returning-a-view-versus-a-copy\n",
      "  newCsv.sort_values([\"Duration\",\"Pulse\"],axis=0,ascending=[True,False], inplace=True)\n"
     ]
    }
   ],
   "source": [
    "#sort_values\n",
    "newCsv=  csv.head(10)\n",
    "newCsv.sort_values([\"Duration\",\"Pulse\"],axis=0,ascending=[True,False], inplace=True)\n",
    "print(newCsv)"
   ]
  },
  {
   "cell_type": "code",
   "execution_count": 205,
   "id": "ebff0c6b-6f79-4eb0-a7bc-887145d920df",
   "metadata": {},
   "outputs": [
    {
     "name": "stdout",
     "output_type": "stream",
     "text": [
      "['detailed-leaderboard']\n",
      "                   0                        1                         2  \\\n",
      "0               Name                    Email                Start Time   \n",
      "1        Aamash Alvi   aamashalvi01@gmail.com  2024-01-19T09:00:06.562Z   \n",
      "2         humra khan   khanhumra024@gmail.com  2024-01-19T08:46:10.506Z   \n",
      "3       Umair Kidwai  umairkidwai88@gmail.com  2024-01-19T08:46:17.155Z   \n",
      "4  Abhash Srivastava     abhashsr18@gmail.com  2024-01-19T08:47:43.730Z   \n",
      "\n",
      "                          3                    4  \\\n",
      "0                  End Time  Alice Rotates Array   \n",
      "1  2024-01-19T10:30:00.000Z                    0   \n",
      "2  2024-01-19T10:13:09.239Z                   80   \n",
      "3  2024-01-19T09:46:17.922Z                    0   \n",
      "4  2024-01-19T09:58:37.342Z                  100   \n",
      "\n",
      "                                                   5                 6  \\\n",
      "0                                         Submission  Submission Count   \n",
      "1  #include <iostream>\\nusing namespace std;\\n\\nv...                 3   \n",
      "2  import java.util.*;\\npublic class Main {\\n    ...                 2   \n",
      "3                                                  -                 0   \n",
      "4  #include <iostream>\\n#include <bits/stdc++.h>\\...                 2   \n",
      "\n",
      "                7                 8           9                10  \\\n",
      "0  Languages Used  College MCQ Test  Submission  Submission Count   \n",
      "1             cpp                 0         ée                 1   \n",
      "2            java                76         ée                 1   \n",
      "3             NaN                48         ée                 1   \n",
      "4             cpp                64         ée                 1   \n",
      "\n",
      "               11                        12  \\\n",
      "0  Languages Used  Move all zero to the end   \n",
      "1             qna                         0   \n",
      "2             qna                       100   \n",
      "3             qna                         0   \n",
      "4             qna                       100   \n",
      "\n",
      "                                                  13                14  \\\n",
      "0                                         Submission  Submission Count   \n",
      "1                                                  -                 0   \n",
      "2  import java.util.*;\\npublic class Main {\\n    ...                 1   \n",
      "3  #include<iostream>\\n#include<vector>\\nusing na...                 1   \n",
      "4  #include<iostream>\\n#include<bits/stdc++.h>\\n\\...                 1   \n",
      "\n",
      "               15               16  \\\n",
      "0  Languages Used  Samraj And Bits   \n",
      "1             NaN                0   \n",
      "2            java               20   \n",
      "3             cpp                0   \n",
      "4             cpp               20   \n",
      "\n",
      "                                                  17                18  \\\n",
      "0                                         Submission  Submission Count   \n",
      "1                                                  -                 0   \n",
      "2  import java.util.*;\\npublic class Main {\\n    ...                 1   \n",
      "3                                                  -                 0   \n",
      "4  #include<iostream>\\n#include<bits/stdc++.h>\\n\\...                 2   \n",
      "\n",
      "               19  \n",
      "0  Languages Used  \n",
      "1             NaN  \n",
      "2            java  \n",
      "3             NaN  \n",
      "4             cpp  \n"
     ]
    }
   ],
   "source": [
    "#Reading Excel File\n",
    "ex=  pd.ExcelFile(\"../student.xlsx\")\n",
    "# ex.parse(\"\")\n",
    "# print(help(ex))\n",
    "print(ex.sheet_names)\n",
    "df =ex.parse('detailed-leaderboard')\n",
    "print(df.head())"
   ]
  },
  {
   "cell_type": "code",
   "execution_count": 206,
   "id": "8152a91f-9f9c-48a3-b710-74f1e373531a",
   "metadata": {},
   "outputs": [
    {
     "name": "stdout",
     "output_type": "stream",
     "text": [
      "                   0                        1                         2  \\\n",
      "0               Name                    Email                Start Time   \n",
      "1        Aamash Alvi   aamashalvi01@gmail.com  2024-01-19T09:00:06.562Z   \n",
      "2         humra khan   khanhumra024@gmail.com  2024-01-19T08:46:10.506Z   \n",
      "3       Umair Kidwai  umairkidwai88@gmail.com  2024-01-19T08:46:17.155Z   \n",
      "4  Abhash Srivastava     abhashsr18@gmail.com  2024-01-19T08:47:43.730Z   \n",
      "\n",
      "                          3                    4  \\\n",
      "0                  End Time  Alice Rotates Array   \n",
      "1  2024-01-19T10:30:00.000Z                    0   \n",
      "2  2024-01-19T10:13:09.239Z                   80   \n",
      "3  2024-01-19T09:46:17.922Z                    0   \n",
      "4  2024-01-19T09:58:37.342Z                  100   \n",
      "\n",
      "                                                   5                 6  \\\n",
      "0                                         Submission  Submission Count   \n",
      "1  #include <iostream>\\nusing namespace std;\\n\\nv...                 3   \n",
      "2  import java.util.*;\\npublic class Main {\\n    ...                 2   \n",
      "3                                                  -                 0   \n",
      "4  #include <iostream>\\n#include <bits/stdc++.h>\\...                 2   \n",
      "\n",
      "                7                 8           9                10  \\\n",
      "0  Languages Used  College MCQ Test  Submission  Submission Count   \n",
      "1             cpp                 0         ée                 1   \n",
      "2            java                76         ée                 1   \n",
      "3             NaN                48         ée                 1   \n",
      "4             cpp                64         ée                 1   \n",
      "\n",
      "               11                        12  \\\n",
      "0  Languages Used  Move all zero to the end   \n",
      "1             qna                         0   \n",
      "2             qna                       100   \n",
      "3             qna                         0   \n",
      "4             qna                       100   \n",
      "\n",
      "                                                  13                14  \\\n",
      "0                                         Submission  Submission Count   \n",
      "1                                                  -                 0   \n",
      "2  import java.util.*;\\npublic class Main {\\n    ...                 1   \n",
      "3  #include<iostream>\\n#include<vector>\\nusing na...                 1   \n",
      "4  #include<iostream>\\n#include<bits/stdc++.h>\\n\\...                 1   \n",
      "\n",
      "               15               16  \\\n",
      "0  Languages Used  Samraj And Bits   \n",
      "1             NaN                0   \n",
      "2            java               20   \n",
      "3             cpp                0   \n",
      "4             cpp               20   \n",
      "\n",
      "                                                  17                18  \\\n",
      "0                                         Submission  Submission Count   \n",
      "1                                                  -                 0   \n",
      "2  import java.util.*;\\npublic class Main {\\n    ...                 1   \n",
      "3                                                  -                 0   \n",
      "4  #include<iostream>\\n#include<bits/stdc++.h>\\n\\...                 2   \n",
      "\n",
      "               19  \n",
      "0  Languages Used  \n",
      "1             NaN  \n",
      "2            java  \n",
      "3             NaN  \n",
      "4             cpp  \n"
     ]
    }
   ],
   "source": [
    "ex=  pd.read_excel(\"../student.xlsx\")\n",
    "print(ex.head())"
   ]
  },
  {
   "cell_type": "code",
   "execution_count": 229,
   "id": "b3d8bc27-c9c2-4f6e-abb3-65aecea85347",
   "metadata": {},
   "outputs": [],
   "source": [
    "l = [{\"ram\":15,\"shyam\":14,\"gita\":12},{\"ram\":15,\"shyam\":14,\"gita\":12}]\n",
    "s= pd.DataFrame(l)\n",
    "writer = pd.ExcelWriter('pandas.xlsx',  \n",
    "                   engine ='xlsxwriter') \n",
    "  \n",
    "# Write a dataframe to the worksheet. \n",
    "s.to_excel(writer, sheet_name =\"MySheet\")"
   ]
  },
  {
   "cell_type": "code",
   "execution_count": 230,
   "id": "928b1100-26bd-4eb2-839a-11653c06210d",
   "metadata": {},
   "outputs": [
    {
     "ename": "ValueError",
     "evalue": "Unknown engine: xlsxwriter",
     "output_type": "error",
     "traceback": [
      "\u001b[1;31m---------------------------------------------------------------------------\u001b[0m",
      "\u001b[1;31mValueError\u001b[0m                                Traceback (most recent call last)",
      "Cell \u001b[1;32mIn[230], line 1\u001b[0m\n\u001b[1;32m----> 1\u001b[0m newEx\u001b[38;5;241m=\u001b[39m \u001b[43mpd\u001b[49m\u001b[38;5;241;43m.\u001b[39;49m\u001b[43mread_excel\u001b[49m\u001b[43m(\u001b[49m\u001b[38;5;124;43m\"\u001b[39;49m\u001b[38;5;124;43m./pandas.xlsx\u001b[39;49m\u001b[38;5;124;43m\"\u001b[39;49m\u001b[43m,\u001b[49m\u001b[43mengine\u001b[49m\u001b[38;5;241;43m=\u001b[39;49m\u001b[38;5;124;43m\"\u001b[39;49m\u001b[38;5;124;43mxlsxwriter\u001b[39;49m\u001b[38;5;124;43m\"\u001b[39;49m\u001b[43m)\u001b[49m\n\u001b[0;32m      2\u001b[0m \u001b[38;5;28mprint\u001b[39m(newEx)\n",
      "File \u001b[1;32m~\\AppData\\Local\\Programs\\Python\\Python311\\Lib\\site-packages\\pandas\\io\\excel\\_base.py:495\u001b[0m, in \u001b[0;36mread_excel\u001b[1;34m(io, sheet_name, header, names, index_col, usecols, dtype, engine, converters, true_values, false_values, skiprows, nrows, na_values, keep_default_na, na_filter, verbose, parse_dates, date_parser, date_format, thousands, decimal, comment, skipfooter, storage_options, dtype_backend, engine_kwargs)\u001b[0m\n\u001b[0;32m    493\u001b[0m \u001b[38;5;28;01mif\u001b[39;00m \u001b[38;5;129;01mnot\u001b[39;00m \u001b[38;5;28misinstance\u001b[39m(io, ExcelFile):\n\u001b[0;32m    494\u001b[0m     should_close \u001b[38;5;241m=\u001b[39m \u001b[38;5;28;01mTrue\u001b[39;00m\n\u001b[1;32m--> 495\u001b[0m     io \u001b[38;5;241m=\u001b[39m \u001b[43mExcelFile\u001b[49m\u001b[43m(\u001b[49m\n\u001b[0;32m    496\u001b[0m \u001b[43m        \u001b[49m\u001b[43mio\u001b[49m\u001b[43m,\u001b[49m\n\u001b[0;32m    497\u001b[0m \u001b[43m        \u001b[49m\u001b[43mstorage_options\u001b[49m\u001b[38;5;241;43m=\u001b[39;49m\u001b[43mstorage_options\u001b[49m\u001b[43m,\u001b[49m\n\u001b[0;32m    498\u001b[0m \u001b[43m        \u001b[49m\u001b[43mengine\u001b[49m\u001b[38;5;241;43m=\u001b[39;49m\u001b[43mengine\u001b[49m\u001b[43m,\u001b[49m\n\u001b[0;32m    499\u001b[0m \u001b[43m        \u001b[49m\u001b[43mengine_kwargs\u001b[49m\u001b[38;5;241;43m=\u001b[39;49m\u001b[43mengine_kwargs\u001b[49m\u001b[43m,\u001b[49m\n\u001b[0;32m    500\u001b[0m \u001b[43m    \u001b[49m\u001b[43m)\u001b[49m\n\u001b[0;32m    501\u001b[0m \u001b[38;5;28;01melif\u001b[39;00m engine \u001b[38;5;129;01mand\u001b[39;00m engine \u001b[38;5;241m!=\u001b[39m io\u001b[38;5;241m.\u001b[39mengine:\n\u001b[0;32m    502\u001b[0m     \u001b[38;5;28;01mraise\u001b[39;00m \u001b[38;5;167;01mValueError\u001b[39;00m(\n\u001b[0;32m    503\u001b[0m         \u001b[38;5;124m\"\u001b[39m\u001b[38;5;124mEngine should not be specified when passing \u001b[39m\u001b[38;5;124m\"\u001b[39m\n\u001b[0;32m    504\u001b[0m         \u001b[38;5;124m\"\u001b[39m\u001b[38;5;124man ExcelFile - ExcelFile already has the engine set\u001b[39m\u001b[38;5;124m\"\u001b[39m\n\u001b[0;32m    505\u001b[0m     )\n",
      "File \u001b[1;32m~\\AppData\\Local\\Programs\\Python\\Python311\\Lib\\site-packages\\pandas\\io\\excel\\_base.py:1518\u001b[0m, in \u001b[0;36mExcelFile.__init__\u001b[1;34m(self, path_or_buffer, engine, storage_options, engine_kwargs)\u001b[0m\n\u001b[0;32m   1515\u001b[0m     engine_kwargs \u001b[38;5;241m=\u001b[39m {}\n\u001b[0;32m   1517\u001b[0m \u001b[38;5;28;01mif\u001b[39;00m engine \u001b[38;5;129;01mis\u001b[39;00m \u001b[38;5;129;01mnot\u001b[39;00m \u001b[38;5;28;01mNone\u001b[39;00m \u001b[38;5;129;01mand\u001b[39;00m engine \u001b[38;5;129;01mnot\u001b[39;00m \u001b[38;5;129;01min\u001b[39;00m \u001b[38;5;28mself\u001b[39m\u001b[38;5;241m.\u001b[39m_engines:\n\u001b[1;32m-> 1518\u001b[0m     \u001b[38;5;28;01mraise\u001b[39;00m \u001b[38;5;167;01mValueError\u001b[39;00m(\u001b[38;5;124mf\u001b[39m\u001b[38;5;124m\"\u001b[39m\u001b[38;5;124mUnknown engine: \u001b[39m\u001b[38;5;132;01m{\u001b[39;00mengine\u001b[38;5;132;01m}\u001b[39;00m\u001b[38;5;124m\"\u001b[39m)\n\u001b[0;32m   1520\u001b[0m \u001b[38;5;66;03m# First argument can also be bytes, so create a buffer\u001b[39;00m\n\u001b[0;32m   1521\u001b[0m \u001b[38;5;28;01mif\u001b[39;00m \u001b[38;5;28misinstance\u001b[39m(path_or_buffer, \u001b[38;5;28mbytes\u001b[39m):\n",
      "\u001b[1;31mValueError\u001b[0m: Unknown engine: xlsxwriter"
     ]
    }
   ],
   "source": [
    "newEx= pd.read_excel(\"./pandas.xlsx\",engine=\"xlsxwriter\")\n",
    "print(newEx)"
   ]
  },
  {
   "cell_type": "code",
   "execution_count": 3,
   "id": "89e37f49-ed66-4ece-a33e-eaf99bda6459",
   "metadata": {},
   "outputs": [],
   "source": [
    "l = [{\"ram\":15,\"shyam\":14,\"gita\":12},{\"ram\":15,\"shyam\":14,\"gita\":12}]\n",
    "s= pd.DataFrame(l)\n",
    "s.to_csv(\"mycsv.csv\",index=True, header=True)"
   ]
  },
  {
   "cell_type": "code",
   "execution_count": 10,
   "id": "3bcb4b64-2fde-4912-bcf0-ed31e476db39",
   "metadata": {},
   "outputs": [
    {
     "name": "stdout",
     "output_type": "stream",
     "text": [
      "                        0                              1\n",
      "0                    Name                          Email\n",
      "1             Aamash Alvi         aamashalvi01@gmail.com\n",
      "2              humra khan         khanhumra024@gmail.com\n",
      "3            Umair Kidwai        umairkidwai88@gmail.com\n",
      "4       Abhash Srivastava           abhashsr18@gmail.com\n",
      "5            Ailya Fatima    ailyafatima572022@gmail.com\n",
      "6          Prashant Singh   babusahab.prashant@gmail.com\n",
      "7         Nishant Jaiswal         jaiswalnj075@gmail.com\n",
      "8             Shreya null    shreya.singh16oct@gmail.com\n",
      "9           Garima Chawla     chawlagarima1909@gmail.com\n",
      "10          Harshita Rana     harshitarana1102@gmail.com\n",
      "11             Anmol null       anmolsandy1977@gmail.com\n",
      "12            Kajal Singh     tanu.sikarwar.77@gmail.com\n",
      "13            Kajal Singh     tanu.sikarwar.77@gmail.com\n",
      "14  Avishek  Vikram Singh         alphaman1711@gmail.com\n",
      "15        Subhan Siddiqui  subhansiddiquiiiiii@gmail.com\n",
      "16         Anupreet Singh         realanupreet@gmail.com\n",
      "17    naga_polisetty null          nagasai1602@gmail.com\n",
      "18        mohammad faisal  mohammadfaisal95111@gmail.com\n",
      "19          MOHD SARFARAZ     mohdsarfaraz1306@gmail.com\n",
      "20         Ishita Jaiswal  abhigyanvikramsingh@gmail.com\n",
      "21                    S k     ishitajaiswal976@gmail.com\n",
      "22      Priyam Srivastava         sasikiran060@gmail.com\n",
      "23            Rafid Hasan             gpps0618@gmail.com\n",
      "24            Bibhu Singh            hrafid001@gmail.com\n",
      "25            Abhay Yadav         singhbibhu04@gmail.com\n",
      "26       Aryan Srivastava            ay8873127@gmail.com\n",
      "27            Ahad Rehman         aryansri1607@gmail.com\n",
      "28           saurabh Vedi         ahadrehman33@gmail.com\n",
      "29           saurabh Vedi      saurabh.vedi777@gmail.com\n",
      "30           saurabh Vedi      saurabh.vedi777@gmail.com\n",
      "31           saurabh Vedi      saurabh.vedi777@gmail.com\n",
      "32           saurabh Vedi      saurabh.vedi777@gmail.com\n"
     ]
    }
   ],
   "source": [
    "re=['0','1']\n",
    "required_df = pd.read_excel('../student.xlsx', usecols = re)  \n",
    "    \n",
    "print(required_df) "
   ]
  },
  {
   "cell_type": "code",
   "execution_count": 23,
   "id": "6b3d3326-9e56-4910-986f-c0764f1c4ac4",
   "metadata": {},
   "outputs": [
    {
     "name": "stdout",
     "output_type": "stream",
     "text": [
      "   ram  shyam  gita\n",
      "0   15     19    12\n",
      "1    5     17    18\n",
      "   rohan  sohan  gita\n",
      "0     13     20    12\n",
      "1     20     24    20\n",
      "    ram  shyam  gita  rohan  sohan\n",
      "0  15.0   19.0    12   13.0   20.0\n",
      "1   5.0   17.0    18    NaN    NaN\n",
      "2   NaN    NaN    20   20.0   24.0\n"
     ]
    }
   ],
   "source": [
    "#mege two dataFrame\n",
    "df1= pd.DataFrame( [{\"ram\":15,\"shyam\":19,\"gita\":12},{\"ram\":5,\"shyam\":17,\"gita\":18}])\n",
    "df2= pd.DataFrame( [{\"rohan\":13,\"sohan\":20,\"gita\":12},{\"rohan\":20,\"sohan\":24,\"gita\":20}])\n",
    "print(df1)\n",
    "print(df2)\n",
    "# m =pd.merge(df1,df2,on='gita', how='inner')\n",
    "\n",
    "m =pd.merge(df1,df2,on='gita', how='outer')\n",
    "print(m)"
   ]
  },
  {
   "cell_type": "code",
   "execution_count": null,
   "id": "99ce4b43-753d-43f4-b467-0f1b8fe2f446",
   "metadata": {},
   "outputs": [],
   "source": []
  }
 ],
 "metadata": {
  "kernelspec": {
   "display_name": "Python 3 (ipykernel)",
   "language": "python",
   "name": "python3"
  },
  "language_info": {
   "codemirror_mode": {
    "name": "ipython",
    "version": 3
   },
   "file_extension": ".py",
   "mimetype": "text/x-python",
   "name": "python",
   "nbconvert_exporter": "python",
   "pygments_lexer": "ipython3",
   "version": "3.11.5"
  }
 },
 "nbformat": 4,
 "nbformat_minor": 5
}
